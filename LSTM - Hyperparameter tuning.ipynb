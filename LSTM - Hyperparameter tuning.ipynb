{
 "cells": [
  {
   "cell_type": "code",
   "execution_count": 1,
   "id": "df9a828b",
   "metadata": {},
   "outputs": [
    {
     "name": "stdout",
     "output_type": "stream",
     "text": [
      "Requirement already satisfied: tensorflow in c:\\users\\rohit\\anaconda3\\lib\\site-packages (2.8.0)\n",
      "Requirement already satisfied: tensorboard<2.9,>=2.8 in c:\\users\\rohit\\anaconda3\\lib\\site-packages (from tensorflow) (2.8.0)\n",
      "Requirement already satisfied: wrapt>=1.11.0 in c:\\users\\rohit\\anaconda3\\lib\\site-packages (from tensorflow) (1.12.1)\n",
      "Requirement already satisfied: termcolor>=1.1.0 in c:\\users\\rohit\\anaconda3\\lib\\site-packages (from tensorflow) (1.1.0)\n",
      "Requirement already satisfied: libclang>=9.0.1 in c:\\users\\rohit\\anaconda3\\lib\\site-packages (from tensorflow) (13.0.0)\n",
      "Requirement already satisfied: typing-extensions>=3.6.6 in c:\\users\\rohit\\anaconda3\\lib\\site-packages (from tensorflow) (3.7.4.3)\n",
      "Requirement already satisfied: tf-estimator-nightly==2.8.0.dev2021122109 in c:\\users\\rohit\\anaconda3\\lib\\site-packages (from tensorflow) (2.8.0.dev2021122109)\n",
      "Requirement already satisfied: keras-preprocessing>=1.1.1 in c:\\users\\rohit\\anaconda3\\lib\\site-packages (from tensorflow) (1.1.2)\n",
      "Requirement already satisfied: gast>=0.2.1 in c:\\users\\rohit\\anaconda3\\lib\\site-packages (from tensorflow) (0.5.3)\n",
      "Requirement already satisfied: google-pasta>=0.1.1 in c:\\users\\rohit\\anaconda3\\lib\\site-packages (from tensorflow) (0.2.0)\n",
      "Requirement already satisfied: tensorflow-io-gcs-filesystem>=0.23.1 in c:\\users\\rohit\\anaconda3\\lib\\site-packages (from tensorflow) (0.24.0)\n",
      "Requirement already satisfied: astunparse>=1.6.0 in c:\\users\\rohit\\anaconda3\\lib\\site-packages (from tensorflow) (1.6.3)\n",
      "Requirement already satisfied: opt-einsum>=2.3.2 in c:\\users\\rohit\\anaconda3\\lib\\site-packages (from tensorflow) (3.3.0)\n",
      "Requirement already satisfied: setuptools in c:\\users\\rohit\\anaconda3\\lib\\site-packages (from tensorflow) (52.0.0.post20210125)\n",
      "Requirement already satisfied: absl-py>=0.4.0 in c:\\users\\rohit\\anaconda3\\lib\\site-packages (from tensorflow) (1.0.0)\n",
      "Requirement already satisfied: grpcio<2.0,>=1.24.3 in c:\\users\\rohit\\anaconda3\\lib\\site-packages (from tensorflow) (1.44.0)\n",
      "Requirement already satisfied: numpy>=1.20 in c:\\users\\rohit\\anaconda3\\lib\\site-packages (from tensorflow) (1.20.1)\n",
      "Requirement already satisfied: protobuf>=3.9.2 in c:\\users\\rohit\\anaconda3\\lib\\site-packages (from tensorflow) (3.20.0)\n",
      "Requirement already satisfied: flatbuffers>=1.12 in c:\\users\\rohit\\anaconda3\\lib\\site-packages (from tensorflow) (2.0)\n",
      "Requirement already satisfied: h5py>=2.9.0 in c:\\users\\rohit\\anaconda3\\lib\\site-packages (from tensorflow) (2.10.0)\n",
      "Requirement already satisfied: six>=1.12.0 in c:\\users\\rohit\\anaconda3\\lib\\site-packages (from tensorflow) (1.15.0)\n",
      "Requirement already satisfied: keras<2.9,>=2.8.0rc0 in c:\\users\\rohit\\anaconda3\\lib\\site-packages (from tensorflow) (2.8.0)\n",
      "Requirement already satisfied: wheel<1.0,>=0.23.0 in c:\\users\\rohit\\anaconda3\\lib\\site-packages (from astunparse>=1.6.0->tensorflow) (0.36.2)\n",
      "Requirement already satisfied: markdown>=2.6.8 in c:\\users\\rohit\\anaconda3\\lib\\site-packages (from tensorboard<2.9,>=2.8->tensorflow) (3.3.6)\n",
      "Requirement already satisfied: requests<3,>=2.21.0 in c:\\users\\rohit\\anaconda3\\lib\\site-packages (from tensorboard<2.9,>=2.8->tensorflow) (2.25.1)\n",
      "Requirement already satisfied: tensorboard-plugin-wit>=1.6.0 in c:\\users\\rohit\\anaconda3\\lib\\site-packages (from tensorboard<2.9,>=2.8->tensorflow) (1.8.1)\n",
      "Requirement already satisfied: tensorboard-data-server<0.7.0,>=0.6.0 in c:\\users\\rohit\\anaconda3\\lib\\site-packages (from tensorboard<2.9,>=2.8->tensorflow) (0.6.1)\n",
      "Requirement already satisfied: google-auth-oauthlib<0.5,>=0.4.1 in c:\\users\\rohit\\anaconda3\\lib\\site-packages (from tensorboard<2.9,>=2.8->tensorflow) (0.4.6)\n",
      "Requirement already satisfied: werkzeug>=0.11.15 in c:\\users\\rohit\\anaconda3\\lib\\site-packages (from tensorboard<2.9,>=2.8->tensorflow) (1.0.1)\n",
      "Requirement already satisfied: google-auth<3,>=1.6.3 in c:\\users\\rohit\\anaconda3\\lib\\site-packages (from tensorboard<2.9,>=2.8->tensorflow) (2.6.5)\n",
      "Requirement already satisfied: cachetools<6.0,>=2.0.0 in c:\\users\\rohit\\anaconda3\\lib\\site-packages (from google-auth<3,>=1.6.3->tensorboard<2.9,>=2.8->tensorflow) (5.0.0)\n",
      "Requirement already satisfied: rsa<5,>=3.1.4 in c:\\users\\rohit\\anaconda3\\lib\\site-packages (from google-auth<3,>=1.6.3->tensorboard<2.9,>=2.8->tensorflow) (4.8)\n",
      "Requirement already satisfied: pyasn1-modules>=0.2.1 in c:\\users\\rohit\\anaconda3\\lib\\site-packages (from google-auth<3,>=1.6.3->tensorboard<2.9,>=2.8->tensorflow) (0.2.8)\n",
      "Requirement already satisfied: requests-oauthlib>=0.7.0 in c:\\users\\rohit\\anaconda3\\lib\\site-packages (from google-auth-oauthlib<0.5,>=0.4.1->tensorboard<2.9,>=2.8->tensorflow) (1.3.1)\n",
      "Requirement already satisfied: importlib-metadata>=4.4 in c:\\users\\rohit\\anaconda3\\lib\\site-packages (from markdown>=2.6.8->tensorboard<2.9,>=2.8->tensorflow) (4.11.3)\n",
      "Requirement already satisfied: zipp>=0.5 in c:\\users\\rohit\\anaconda3\\lib\\site-packages (from importlib-metadata>=4.4->markdown>=2.6.8->tensorboard<2.9,>=2.8->tensorflow) (3.4.1)\n",
      "Requirement already satisfied: pyasn1<0.5.0,>=0.4.6 in c:\\users\\rohit\\anaconda3\\lib\\site-packages (from pyasn1-modules>=0.2.1->google-auth<3,>=1.6.3->tensorboard<2.9,>=2.8->tensorflow) (0.4.8)\n",
      "Requirement already satisfied: chardet<5,>=3.0.2 in c:\\users\\rohit\\anaconda3\\lib\\site-packages (from requests<3,>=2.21.0->tensorboard<2.9,>=2.8->tensorflow) (4.0.0)\n",
      "Requirement already satisfied: certifi>=2017.4.17 in c:\\users\\rohit\\anaconda3\\lib\\site-packages (from requests<3,>=2.21.0->tensorboard<2.9,>=2.8->tensorflow) (2020.12.5)\n",
      "Requirement already satisfied: urllib3<1.27,>=1.21.1 in c:\\users\\rohit\\anaconda3\\lib\\site-packages (from requests<3,>=2.21.0->tensorboard<2.9,>=2.8->tensorflow) (1.26.4)\n",
      "Requirement already satisfied: idna<3,>=2.5 in c:\\users\\rohit\\anaconda3\\lib\\site-packages (from requests<3,>=2.21.0->tensorboard<2.9,>=2.8->tensorflow) (2.10)\n",
      "Requirement already satisfied: oauthlib>=3.0.0 in c:\\users\\rohit\\anaconda3\\lib\\site-packages (from requests-oauthlib>=0.7.0->google-auth-oauthlib<0.5,>=0.4.1->tensorboard<2.9,>=2.8->tensorflow) (3.2.0)\n"
     ]
    }
   ],
   "source": [
    "!pip install tensorflow"
   ]
  },
  {
   "cell_type": "code",
   "execution_count": 2,
   "id": "677fc4bb",
   "metadata": {},
   "outputs": [],
   "source": [
    "import pandas as pd\n",
    "from tensorflow.keras.preprocessing.text import Tokenizer\n",
    "from tensorflow.keras.preprocessing.sequence import pad_sequences\n",
    "from tensorflow.keras.models import Sequential\n",
    "from tensorflow.keras.layers import Embedding, LSTM, Dense, Dropout\n",
    "from tensorflow.keras.utils import to_categorical\n",
    "from sklearn.model_selection import train_test_split"
   ]
  },
  {
   "cell_type": "code",
   "execution_count": 3,
   "id": "91bd38e6",
   "metadata": {},
   "outputs": [],
   "source": [
    "# 1. Data Preprocessing\n",
    "\n",
    "# Load the dataset\n",
    "data = pd.read_csv(r\"C:\\Users\\rohit\\Downloads\\archive\\Reddit_Data.csv\")"
   ]
  },
  {
   "cell_type": "code",
   "execution_count": 4,
   "id": "24c9e6bc",
   "metadata": {},
   "outputs": [],
   "source": [
    "# Drop rows where 'clean_comment' is NaN\n",
    "data = data.dropna(subset=['clean_comment'])"
   ]
  },
  {
   "cell_type": "code",
   "execution_count": 5,
   "id": "6f256557",
   "metadata": {},
   "outputs": [],
   "source": [
    "# Tokenize the \"clean_comment\" column\n",
    "tokenizer = Tokenizer(num_words=5000, oov_token='<OOV>')\n",
    "tokenizer.fit_on_texts(data['clean_comment'])\n",
    "sequences = tokenizer.texts_to_sequences(data['clean_comment'])"
   ]
  },
  {
   "cell_type": "code",
   "execution_count": 6,
   "id": "155ec6dd",
   "metadata": {},
   "outputs": [],
   "source": [
    "# Pad the sequences\n",
    "padded_sequences = pad_sequences(sequences, maxlen=100, padding='post', truncating='post')"
   ]
  },
  {
   "cell_type": "code",
   "execution_count": 7,
   "id": "46c11e88",
   "metadata": {},
   "outputs": [],
   "source": [
    "# Convert categories to one-hot encoding\n",
    "labels = to_categorical(data['category'] + 1)  # Adding 1 to make categories 0, 1, and 2"
   ]
  },
  {
   "cell_type": "code",
   "execution_count": 8,
   "id": "98431aa3",
   "metadata": {},
   "outputs": [],
   "source": [
    "# Split the data into training and testing sets\n",
    "X_train, X_test, y_train, y_test = train_test_split(padded_sequences, labels, test_size=0.2, random_state=42)"
   ]
  },
  {
   "cell_type": "code",
   "execution_count": 9,
   "id": "415a048d",
   "metadata": {},
   "outputs": [],
   "source": [
    "# 2. Model Building\n",
    "\n",
    "model = Sequential([\n",
    "    Embedding(input_dim=5000, output_dim=64, input_length=100),\n",
    "    LSTM(64, return_sequences=True),\n",
    "    Dropout(0.5),\n",
    "    LSTM(64),\n",
    "    Dense(3, activation='softmax')\n",
    "])"
   ]
  },
  {
   "cell_type": "code",
   "execution_count": 10,
   "id": "19d5bf24",
   "metadata": {},
   "outputs": [],
   "source": [
    "model.compile(loss='categorical_crossentropy', optimizer='adam', metrics=['accuracy'])"
   ]
  },
  {
   "cell_type": "code",
   "execution_count": 11,
   "id": "d0f4f25f",
   "metadata": {
    "scrolled": true
   },
   "outputs": [
    {
     "name": "stdout",
     "output_type": "stream",
     "text": [
      "Epoch 1/5\n",
      "465/465 [==============================] - 96s 199ms/step - loss: 0.9625 - accuracy: 0.5447 - val_loss: 0.9250 - val_accuracy: 0.5809\n",
      "Epoch 2/5\n",
      "465/465 [==============================] - 86s 185ms/step - loss: 0.9891 - accuracy: 0.5158 - val_loss: 1.0065 - val_accuracy: 0.4906\n",
      "Epoch 3/5\n",
      "465/465 [==============================] - 81s 175ms/step - loss: 1.0114 - accuracy: 0.4870 - val_loss: 0.9975 - val_accuracy: 0.4903\n",
      "Epoch 4/5\n",
      "465/465 [==============================] - 76s 163ms/step - loss: 1.0077 - accuracy: 0.4897 - val_loss: 1.0047 - val_accuracy: 0.4910\n",
      "Epoch 5/5\n",
      "465/465 [==============================] - 87s 186ms/step - loss: 1.0084 - accuracy: 0.4891 - val_loss: 1.0032 - val_accuracy: 0.4918\n"
     ]
    },
    {
     "data": {
      "text/plain": [
       "<keras.callbacks.History at 0x241df89cdf0>"
      ]
     },
     "execution_count": 11,
     "metadata": {},
     "output_type": "execute_result"
    }
   ],
   "source": [
    "# 3. Training\n",
    "\n",
    "model.fit(X_train, y_train, epochs=5, validation_data=(X_test, y_test), batch_size=64)"
   ]
  },
  {
   "cell_type": "code",
   "execution_count": 12,
   "id": "6ba171c5",
   "metadata": {},
   "outputs": [
    {
     "name": "stdout",
     "output_type": "stream",
     "text": [
      "233/233 [==============================] - 4s 19ms/step - loss: 1.0032 - accuracy: 0.4918\n",
      "Test Accuracy: 49.18%\n"
     ]
    }
   ],
   "source": [
    "# 4. Evaluation\n",
    "\n",
    "loss, accuracy = model.evaluate(X_test, y_test)\n",
    "print(f\"Test Accuracy: {accuracy*100:.2f}%\")"
   ]
  },
  {
   "cell_type": "markdown",
   "id": "f1da1db8",
   "metadata": {},
   "source": [
    "# Changing the Hyperparameters"
   ]
  },
  {
   "cell_type": "markdown",
   "id": "e4f3e99f",
   "metadata": {},
   "source": [
    "### Changing the epochs to 10"
   ]
  },
  {
   "cell_type": "code",
   "execution_count": 13,
   "id": "4ce42686",
   "metadata": {},
   "outputs": [
    {
     "name": "stdout",
     "output_type": "stream",
     "text": [
      "Epoch 1/10\n",
      "929/929 [==============================] - 59s 64ms/step - loss: 1.0085 - accuracy: 0.4890 - val_loss: 1.0027 - val_accuracy: 0.4898\n",
      "Epoch 2/10\n",
      "929/929 [==============================] - 64s 69ms/step - loss: 0.7154 - accuracy: 0.6797 - val_loss: 0.4261 - val_accuracy: 0.8505\n",
      "Epoch 3/10\n",
      "929/929 [==============================] - 71s 76ms/step - loss: 0.3421 - accuracy: 0.8868 - val_loss: 0.3065 - val_accuracy: 0.9019\n",
      "Epoch 4/10\n",
      "929/929 [==============================] - 73s 78ms/step - loss: 0.2481 - accuracy: 0.9262 - val_loss: 0.2911 - val_accuracy: 0.9044\n",
      "Epoch 5/10\n",
      "929/929 [==============================] - 72s 78ms/step - loss: 0.2174 - accuracy: 0.9385 - val_loss: 0.2525 - val_accuracy: 0.9233\n",
      "Epoch 6/10\n",
      "929/929 [==============================] - 72s 77ms/step - loss: 0.1910 - accuracy: 0.9480 - val_loss: 0.2782 - val_accuracy: 0.9140\n",
      "Epoch 7/10\n",
      "929/929 [==============================] - 73s 79ms/step - loss: 0.1734 - accuracy: 0.9544 - val_loss: 0.2742 - val_accuracy: 0.9192\n",
      "Epoch 8/10\n",
      "929/929 [==============================] - 74s 79ms/step - loss: 0.1535 - accuracy: 0.9611 - val_loss: 0.2768 - val_accuracy: 0.9202\n",
      "Epoch 9/10\n",
      "929/929 [==============================] - 73s 78ms/step - loss: 0.1429 - accuracy: 0.9651 - val_loss: 0.3083 - val_accuracy: 0.9137\n",
      "Epoch 10/10\n",
      "929/929 [==============================] - 75s 80ms/step - loss: 0.1385 - accuracy: 0.9656 - val_loss: 0.2915 - val_accuracy: 0.9227\n"
     ]
    },
    {
     "data": {
      "text/plain": [
       "<keras.callbacks.History at 0x241df9624c0>"
      ]
     },
     "execution_count": 13,
     "metadata": {},
     "output_type": "execute_result"
    }
   ],
   "source": [
    "# 3. Training\n",
    "\n",
    "model.fit(X_train, y_train, epochs=10, validation_data=(X_test, y_test), batch_size=32)"
   ]
  },
  {
   "cell_type": "code",
   "execution_count": 14,
   "id": "e254a0bb",
   "metadata": {
    "scrolled": true
   },
   "outputs": [
    {
     "name": "stdout",
     "output_type": "stream",
     "text": [
      "233/233 [==============================] - 4s 19ms/step - loss: 0.2915 - accuracy: 0.9227\n",
      "Test Accuracy: 92.27%\n"
     ]
    }
   ],
   "source": [
    "# 4. Evaluation\n",
    "\n",
    "loss, accuracy = model.evaluate(X_test, y_test)\n",
    "print(f\"Test Accuracy: {accuracy*100:.2f}%\")"
   ]
  },
  {
   "cell_type": "markdown",
   "id": "47a36b4b",
   "metadata": {},
   "source": [
    "### Changing optimizer to rmsprop"
   ]
  },
  {
   "cell_type": "code",
   "execution_count": 15,
   "id": "b8ef533c",
   "metadata": {},
   "outputs": [],
   "source": [
    "model.compile(loss='categorical_crossentropy', optimizer='rmsprop', metrics=['accuracy'])"
   ]
  },
  {
   "cell_type": "code",
   "execution_count": 16,
   "id": "833ea87c",
   "metadata": {},
   "outputs": [
    {
     "name": "stdout",
     "output_type": "stream",
     "text": [
      "Epoch 1/10\n",
      "929/929 [==============================] - 60s 61ms/step - loss: 0.1230 - accuracy: 0.9713 - val_loss: 0.3859 - val_accuracy: 0.9042\n",
      "Epoch 2/10\n",
      "929/929 [==============================] - 62s 67ms/step - loss: 0.1164 - accuracy: 0.9726 - val_loss: 0.3630 - val_accuracy: 0.9127\n",
      "Epoch 3/10\n",
      "929/929 [==============================] - 67s 73ms/step - loss: 0.1110 - accuracy: 0.9742 - val_loss: 0.3256 - val_accuracy: 0.9197\n",
      "Epoch 4/10\n",
      "929/929 [==============================] - 68s 74ms/step - loss: 0.1099 - accuracy: 0.9740 - val_loss: 0.3587 - val_accuracy: 0.9144\n",
      "Epoch 5/10\n",
      "929/929 [==============================] - 69s 74ms/step - loss: 0.1080 - accuracy: 0.9748 - val_loss: 0.3433 - val_accuracy: 0.9141\n",
      "Epoch 6/10\n",
      "929/929 [==============================] - 69s 74ms/step - loss: 0.1063 - accuracy: 0.9748 - val_loss: 0.3714 - val_accuracy: 0.9040\n",
      "Epoch 7/10\n",
      "929/929 [==============================] - 69s 74ms/step - loss: 0.1046 - accuracy: 0.9750 - val_loss: 0.4204 - val_accuracy: 0.8668\n",
      "Epoch 8/10\n",
      "929/929 [==============================] - 69s 74ms/step - loss: 0.1026 - accuracy: 0.9762 - val_loss: 0.3789 - val_accuracy: 0.9087\n",
      "Epoch 9/10\n",
      "929/929 [==============================] - 69s 74ms/step - loss: 0.0999 - accuracy: 0.9771 - val_loss: 0.4472 - val_accuracy: 0.8942\n",
      "Epoch 10/10\n",
      "929/929 [==============================] - 69s 74ms/step - loss: 0.0986 - accuracy: 0.9767 - val_loss: 0.4190 - val_accuracy: 0.9046\n"
     ]
    },
    {
     "data": {
      "text/plain": [
       "<keras.callbacks.History at 0x241df9c2af0>"
      ]
     },
     "execution_count": 16,
     "metadata": {},
     "output_type": "execute_result"
    }
   ],
   "source": [
    "# 3. Training\n",
    "\n",
    "model.fit(X_train, y_train, epochs=10, validation_data=(X_test, y_test), batch_size=32)"
   ]
  },
  {
   "cell_type": "code",
   "execution_count": 17,
   "id": "ae440689",
   "metadata": {},
   "outputs": [
    {
     "name": "stdout",
     "output_type": "stream",
     "text": [
      "233/233 [==============================] - 4s 18ms/step - loss: 0.4190 - accuracy: 0.9046\n",
      "Test Accuracy: 90.46%\n"
     ]
    }
   ],
   "source": [
    "# 4. Evaluation\n",
    "\n",
    "loss, accuracy = model.evaluate(X_test, y_test)\n",
    "print(f\"Test Accuracy: {accuracy*100:.2f}%\")"
   ]
  },
  {
   "cell_type": "markdown",
   "id": "0fff0a18",
   "metadata": {},
   "source": [
    "### Tokenizer hyperparameter num_words = 4000"
   ]
  },
  {
   "cell_type": "code",
   "execution_count": 32,
   "id": "17656f54",
   "metadata": {},
   "outputs": [],
   "source": [
    "# Tokenize the \"clean_comment\" column\n",
    "tokenizer = Tokenizer(num_words=4000, oov_token='<OOV>')\n",
    "tokenizer.fit_on_texts(data['clean_comment'])\n",
    "sequences = tokenizer.texts_to_sequences(data['clean_comment'])"
   ]
  },
  {
   "cell_type": "code",
   "execution_count": 33,
   "id": "72c2722e",
   "metadata": {},
   "outputs": [],
   "source": [
    "# Pad the sequences\n",
    "padded_sequences = pad_sequences(sequences, maxlen=100, padding='post', truncating='post')"
   ]
  },
  {
   "cell_type": "code",
   "execution_count": 34,
   "id": "b58115dc",
   "metadata": {},
   "outputs": [],
   "source": [
    "# Convert categories to one-hot encoding\n",
    "labels = to_categorical(data['category'] + 1)  # Adding 1 to make categories 0, 1, and 2"
   ]
  },
  {
   "cell_type": "code",
   "execution_count": 35,
   "id": "50edebc8",
   "metadata": {},
   "outputs": [],
   "source": [
    "# Split the data into training and testing sets\n",
    "X_train, X_test, y_train, y_test = train_test_split(padded_sequences, labels, test_size=0.2, random_state=42)"
   ]
  },
  {
   "cell_type": "code",
   "execution_count": 36,
   "id": "6a16e08d",
   "metadata": {},
   "outputs": [],
   "source": [
    "# 2. Model Building\n",
    "\n",
    "model = Sequential([\n",
    "    Embedding(input_dim=5000, output_dim=64, input_length=100),\n",
    "    LSTM(64, return_sequences=True),\n",
    "    Dropout(0.5),\n",
    "    LSTM(64),\n",
    "    Dense(3, activation='softmax')\n",
    "])"
   ]
  },
  {
   "cell_type": "code",
   "execution_count": 37,
   "id": "84c6f3b6",
   "metadata": {},
   "outputs": [],
   "source": [
    "model.compile(loss='categorical_crossentropy', optimizer='adam', metrics=['accuracy'])"
   ]
  },
  {
   "cell_type": "code",
   "execution_count": 38,
   "id": "02e90189",
   "metadata": {},
   "outputs": [
    {
     "name": "stdout",
     "output_type": "stream",
     "text": [
      "Epoch 1/10\n",
      "929/929 [==============================] - 61s 63ms/step - loss: 1.0282 - accuracy: 0.4783 - val_loss: 1.0557 - val_accuracy: 0.4429\n",
      "Epoch 2/10\n",
      "929/929 [==============================] - 64s 69ms/step - loss: 1.0577 - accuracy: 0.4372 - val_loss: 1.0552 - val_accuracy: 0.4382\n",
      "Epoch 3/10\n",
      "929/929 [==============================] - 69s 75ms/step - loss: 0.7105 - accuracy: 0.6902 - val_loss: 0.4678 - val_accuracy: 0.8256\n",
      "Epoch 4/10\n",
      "929/929 [==============================] - 68s 74ms/step - loss: 0.3546 - accuracy: 0.8787 - val_loss: 0.3206 - val_accuracy: 0.8937\n",
      "Epoch 5/10\n",
      "929/929 [==============================] - 69s 74ms/step - loss: 0.2639 - accuracy: 0.9178 - val_loss: 0.2708 - val_accuracy: 0.9160\n",
      "Epoch 6/10\n",
      "929/929 [==============================] - 69s 75ms/step - loss: 0.2222 - accuracy: 0.9337 - val_loss: 0.2642 - val_accuracy: 0.9195\n",
      "Epoch 7/10\n",
      "929/929 [==============================] - 71s 77ms/step - loss: 0.1949 - accuracy: 0.9438 - val_loss: 0.2876 - val_accuracy: 0.9090\n",
      "Epoch 8/10\n",
      "929/929 [==============================] - 69s 75ms/step - loss: 0.1747 - accuracy: 0.9485 - val_loss: 0.2834 - val_accuracy: 0.9211\n",
      "Epoch 9/10\n",
      "929/929 [==============================] - 70s 75ms/step - loss: 0.1577 - accuracy: 0.9551 - val_loss: 0.2837 - val_accuracy: 0.9195\n",
      "Epoch 10/10\n",
      "929/929 [==============================] - 70s 75ms/step - loss: 0.1420 - accuracy: 0.9591 - val_loss: 0.2835 - val_accuracy: 0.9195\n"
     ]
    },
    {
     "data": {
      "text/plain": [
       "<keras.callbacks.History at 0x241e943a6d0>"
      ]
     },
     "execution_count": 38,
     "metadata": {},
     "output_type": "execute_result"
    }
   ],
   "source": [
    "# 3. Training\n",
    "\n",
    "model.fit(X_train, y_train, epochs=10, validation_data=(X_test, y_test), batch_size=32)"
   ]
  },
  {
   "cell_type": "code",
   "execution_count": 39,
   "id": "d65677e4",
   "metadata": {},
   "outputs": [
    {
     "name": "stdout",
     "output_type": "stream",
     "text": [
      "233/233 [==============================] - 5s 21ms/step - loss: 0.2835 - accuracy: 0.9195\n",
      "Test Accuracy: 91.95%\n"
     ]
    }
   ],
   "source": [
    "# 4. Evaluation\n",
    "\n",
    "loss, accuracy = model.evaluate(X_test, y_test)\n",
    "print(f\"Test Accuracy: {accuracy*100:.2f}%\")"
   ]
  },
  {
   "cell_type": "code",
   "execution_count": null,
   "id": "444392dd",
   "metadata": {},
   "outputs": [],
   "source": []
  }
 ],
 "metadata": {
  "kernelspec": {
   "display_name": "Python 3",
   "language": "python",
   "name": "python3"
  },
  "language_info": {
   "codemirror_mode": {
    "name": "ipython",
    "version": 3
   },
   "file_extension": ".py",
   "mimetype": "text/x-python",
   "name": "python",
   "nbconvert_exporter": "python",
   "pygments_lexer": "ipython3",
   "version": "3.8.8"
  }
 },
 "nbformat": 4,
 "nbformat_minor": 5
}
